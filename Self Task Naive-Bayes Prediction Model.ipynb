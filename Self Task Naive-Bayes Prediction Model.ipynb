{
 "cells": [
  {
   "cell_type": "markdown",
   "metadata": {},
   "source": [
    "# KUIS 2: PREDICTION MODEL MENGGUNAKAN NAIVE-BAYES"
   ]
  },
  {
   "cell_type": "markdown",
   "metadata": {},
   "source": [
    "## Import\n",
    "\n",
    "Pada tahap ini, saya melakukan import modul, library sklearn, dan juga dataset yang akan dipakai. Fungsi setiap model dan library telah dituliskan pada coding di bawah ini."
   ]
  },
  {
   "cell_type": "code",
   "execution_count": 1,
   "metadata": {},
   "outputs": [],
   "source": [
    "## Import modul\n",
    "import numpy as np #aljabar linear\n",
    "import pandas as pd #data processing"
   ]
  },
  {
   "cell_type": "code",
   "execution_count": 2,
   "metadata": {},
   "outputs": [],
   "source": [
    "# Import library\n",
    "from sklearn import model_selection #Prediction library\n",
    "from sklearn.naive_bayes import GaussianNB # Naive Bayes Classification\n",
    "from sklearn.model_selection import KFold # Cross Validation\n",
    "from sklearn.model_selection import cross_val_score # Mengambil nilai hasil testing\n",
    "from sklearn.model_selection import cross_validate # Mengambil hasil testing\n",
    "from sklearn.model_selection import train_test_split # Repeated hold out\n",
    "from sklearn.metrics import classification_report # Menampilkan hasil testing"
   ]
  },
  {
   "cell_type": "code",
   "execution_count": 3,
   "metadata": {},
   "outputs": [],
   "source": [
    "#Import dataset\n",
    "df = pd.read_csv('loan_data.csv')"
   ]
  },
  {
   "cell_type": "markdown",
   "metadata": {},
   "source": [
    "## Praproses data\n",
    "\n",
    "Pada tahap ini, saya melakukan pengisian missing values dan juga pengkonversian tipe data."
   ]
  },
  {
   "cell_type": "code",
   "execution_count": 4,
   "metadata": {},
   "outputs": [],
   "source": [
    "dff = df.copy()"
   ]
  },
  {
   "cell_type": "code",
   "execution_count": 5,
   "metadata": {},
   "outputs": [
    {
     "name": "stdout",
     "output_type": "stream",
     "text": [
      "<class 'pandas.core.frame.DataFrame'>\n",
      "RangeIndex: 614 entries, 0 to 613\n",
      "Data columns (total 13 columns):\n",
      " #   Column             Non-Null Count  Dtype  \n",
      "---  ------             --------------  -----  \n",
      " 0   Loan_ID            614 non-null    object \n",
      " 1   Gender             601 non-null    object \n",
      " 2   Married            611 non-null    object \n",
      " 3   Dependents         599 non-null    object \n",
      " 4   Education          614 non-null    object \n",
      " 5   Self_Employed      582 non-null    object \n",
      " 6   ApplicantIncome    614 non-null    int64  \n",
      " 7   CoapplicantIncome  614 non-null    float64\n",
      " 8   LoanAmount         592 non-null    float64\n",
      " 9   Loan_Amount_Term   600 non-null    float64\n",
      " 10  Credit_History     564 non-null    float64\n",
      " 11  Property_Area      614 non-null    object \n",
      " 12  Loan_Status        614 non-null    object \n",
      "dtypes: float64(4), int64(1), object(8)\n",
      "memory usage: 62.5+ KB\n"
     ]
    }
   ],
   "source": [
    "dff.info()"
   ]
  },
  {
   "cell_type": "code",
   "execution_count": 6,
   "metadata": {},
   "outputs": [
    {
     "data": {
      "text/plain": [
       "Loan_ID               0\n",
       "Gender               13\n",
       "Married               3\n",
       "Dependents           15\n",
       "Education             0\n",
       "Self_Employed        32\n",
       "ApplicantIncome       0\n",
       "CoapplicantIncome     0\n",
       "LoanAmount           22\n",
       "Loan_Amount_Term     14\n",
       "Credit_History       50\n",
       "Property_Area         0\n",
       "Loan_Status           0\n",
       "dtype: int64"
      ]
     },
     "execution_count": 6,
     "metadata": {},
     "output_type": "execute_result"
    }
   ],
   "source": [
    "dff.isna().sum() #mencari tahu banyaknya missing values setiap variabel"
   ]
  },
  {
   "cell_type": "code",
   "execution_count": 7,
   "metadata": {},
   "outputs": [
    {
     "data": {
      "text/plain": [
       "0    Male\n",
       "dtype: object"
      ]
     },
     "execution_count": 7,
     "metadata": {},
     "output_type": "execute_result"
    }
   ],
   "source": [
    "# Mencari tahu mode (untuk  tipe data object/category) dan mean (untuk tipe data numerik) untuk mengisi missing value.\n",
    "\n",
    "dff[\"Gender\"].mode()"
   ]
  },
  {
   "cell_type": "code",
   "execution_count": 8,
   "metadata": {},
   "outputs": [
    {
     "data": {
      "text/plain": [
       "0    Yes\n",
       "dtype: object"
      ]
     },
     "execution_count": 8,
     "metadata": {},
     "output_type": "execute_result"
    }
   ],
   "source": [
    "dff[\"Married\"].mode()"
   ]
  },
  {
   "cell_type": "code",
   "execution_count": 9,
   "metadata": {},
   "outputs": [
    {
     "data": {
      "text/plain": [
       "0    0\n",
       "dtype: object"
      ]
     },
     "execution_count": 9,
     "metadata": {},
     "output_type": "execute_result"
    }
   ],
   "source": [
    "dff[\"Dependents\"].mode()"
   ]
  },
  {
   "cell_type": "code",
   "execution_count": 10,
   "metadata": {},
   "outputs": [
    {
     "data": {
      "text/plain": [
       "0    No\n",
       "dtype: object"
      ]
     },
     "execution_count": 10,
     "metadata": {},
     "output_type": "execute_result"
    }
   ],
   "source": [
    "dff[\"Self_Employed\"].mode()"
   ]
  },
  {
   "cell_type": "code",
   "execution_count": 11,
   "metadata": {},
   "outputs": [
    {
     "data": {
      "text/plain": [
       "146.41216216216216"
      ]
     },
     "execution_count": 11,
     "metadata": {},
     "output_type": "execute_result"
    }
   ],
   "source": [
    "dff[\"LoanAmount\"].mean()"
   ]
  },
  {
   "cell_type": "code",
   "execution_count": 12,
   "metadata": {},
   "outputs": [
    {
     "data": {
      "text/plain": [
       "0    360.0\n",
       "dtype: float64"
      ]
     },
     "execution_count": 12,
     "metadata": {},
     "output_type": "execute_result"
    }
   ],
   "source": [
    "dff[\"Loan_Amount_Term\"].mode()"
   ]
  },
  {
   "cell_type": "code",
   "execution_count": 13,
   "metadata": {},
   "outputs": [
    {
     "data": {
      "text/plain": [
       "0    1.0\n",
       "dtype: float64"
      ]
     },
     "execution_count": 13,
     "metadata": {},
     "output_type": "execute_result"
    }
   ],
   "source": [
    "dff[\"Credit_History\"].mode()"
   ]
  },
  {
   "cell_type": "code",
   "execution_count": 14,
   "metadata": {},
   "outputs": [],
   "source": [
    "# Mengisi missing value setiap variabel.\n",
    "\n",
    "dff['Gender'].fillna('Male', inplace=True)\n",
    "dff['Married'].fillna('Yes', inplace=True)\n",
    "dff['Dependents'].fillna('0', inplace=True)\n",
    "dff['Self_Employed'].fillna('No', inplace=True)\n",
    "dff['LoanAmount'].fillna('146.4', inplace=True)\n",
    "dff['Loan_Amount_Term'].fillna('360', inplace=True)\n",
    "dff['Credit_History'].fillna('1', inplace=True)"
   ]
  },
  {
   "cell_type": "code",
   "execution_count": 15,
   "metadata": {},
   "outputs": [
    {
     "data": {
      "text/plain": [
       "Loan_ID              0\n",
       "Gender               0\n",
       "Married              0\n",
       "Dependents           0\n",
       "Education            0\n",
       "Self_Employed        0\n",
       "ApplicantIncome      0\n",
       "CoapplicantIncome    0\n",
       "LoanAmount           0\n",
       "Loan_Amount_Term     0\n",
       "Credit_History       0\n",
       "Property_Area        0\n",
       "Loan_Status          0\n",
       "dtype: int64"
      ]
     },
     "execution_count": 15,
     "metadata": {},
     "output_type": "execute_result"
    }
   ],
   "source": [
    "# Mengecek kembali jumlah missing value pada data setiap variabel\n",
    "\n",
    "dff.isna().sum()"
   ]
  },
  {
   "cell_type": "code",
   "execution_count": 16,
   "metadata": {},
   "outputs": [],
   "source": [
    "# Mengubah data Yes/No menjadi boolean 1/0.\n",
    "\n",
    "dff.Married = dff.Married.map({ 'Yes' : 1, 'No' : 0})\n",
    "dff.Education = dff.Education.map({ 'Graduate' : 1, 'Not Graduate' : 0})\n",
    "dff.Self_Employed = dff.Self_Employed.map({ 'Yes' : 1, 'No' : 0})\n",
    "dff.Loan_Status = dff.Loan_Status.map({ 'Y' : 1, 'N' : 0})"
   ]
  },
  {
   "cell_type": "code",
   "execution_count": 17,
   "metadata": {},
   "outputs": [
    {
     "data": {
      "text/html": [
       "<div>\n",
       "<style scoped>\n",
       "    .dataframe tbody tr th:only-of-type {\n",
       "        vertical-align: middle;\n",
       "    }\n",
       "\n",
       "    .dataframe tbody tr th {\n",
       "        vertical-align: top;\n",
       "    }\n",
       "\n",
       "    .dataframe thead th {\n",
       "        text-align: right;\n",
       "    }\n",
       "</style>\n",
       "<table border=\"1\" class=\"dataframe\">\n",
       "  <thead>\n",
       "    <tr style=\"text-align: right;\">\n",
       "      <th></th>\n",
       "      <th>Loan_ID</th>\n",
       "      <th>Married</th>\n",
       "      <th>Education</th>\n",
       "      <th>Self_Employed</th>\n",
       "      <th>ApplicantIncome</th>\n",
       "      <th>CoapplicantIncome</th>\n",
       "      <th>LoanAmount</th>\n",
       "      <th>Loan_Amount_Term</th>\n",
       "      <th>Credit_History</th>\n",
       "      <th>Loan_Status</th>\n",
       "      <th>Female</th>\n",
       "      <th>Male</th>\n",
       "      <th>0</th>\n",
       "      <th>1</th>\n",
       "      <th>2</th>\n",
       "      <th>3+</th>\n",
       "      <th>Rural</th>\n",
       "      <th>Semiurban</th>\n",
       "      <th>Urban</th>\n",
       "    </tr>\n",
       "  </thead>\n",
       "  <tbody>\n",
       "    <tr>\n",
       "      <th>0</th>\n",
       "      <td>LP001002</td>\n",
       "      <td>0</td>\n",
       "      <td>1</td>\n",
       "      <td>0</td>\n",
       "      <td>5849</td>\n",
       "      <td>0.0</td>\n",
       "      <td>146.4</td>\n",
       "      <td>360</td>\n",
       "      <td>1</td>\n",
       "      <td>1</td>\n",
       "      <td>0</td>\n",
       "      <td>1</td>\n",
       "      <td>1</td>\n",
       "      <td>0</td>\n",
       "      <td>0</td>\n",
       "      <td>0</td>\n",
       "      <td>0</td>\n",
       "      <td>0</td>\n",
       "      <td>1</td>\n",
       "    </tr>\n",
       "    <tr>\n",
       "      <th>1</th>\n",
       "      <td>LP001003</td>\n",
       "      <td>1</td>\n",
       "      <td>1</td>\n",
       "      <td>0</td>\n",
       "      <td>4583</td>\n",
       "      <td>1508.0</td>\n",
       "      <td>128</td>\n",
       "      <td>360</td>\n",
       "      <td>1</td>\n",
       "      <td>0</td>\n",
       "      <td>0</td>\n",
       "      <td>1</td>\n",
       "      <td>0</td>\n",
       "      <td>1</td>\n",
       "      <td>0</td>\n",
       "      <td>0</td>\n",
       "      <td>1</td>\n",
       "      <td>0</td>\n",
       "      <td>0</td>\n",
       "    </tr>\n",
       "    <tr>\n",
       "      <th>2</th>\n",
       "      <td>LP001005</td>\n",
       "      <td>1</td>\n",
       "      <td>1</td>\n",
       "      <td>1</td>\n",
       "      <td>3000</td>\n",
       "      <td>0.0</td>\n",
       "      <td>66</td>\n",
       "      <td>360</td>\n",
       "      <td>1</td>\n",
       "      <td>1</td>\n",
       "      <td>0</td>\n",
       "      <td>1</td>\n",
       "      <td>1</td>\n",
       "      <td>0</td>\n",
       "      <td>0</td>\n",
       "      <td>0</td>\n",
       "      <td>0</td>\n",
       "      <td>0</td>\n",
       "      <td>1</td>\n",
       "    </tr>\n",
       "    <tr>\n",
       "      <th>3</th>\n",
       "      <td>LP001006</td>\n",
       "      <td>1</td>\n",
       "      <td>0</td>\n",
       "      <td>0</td>\n",
       "      <td>2583</td>\n",
       "      <td>2358.0</td>\n",
       "      <td>120</td>\n",
       "      <td>360</td>\n",
       "      <td>1</td>\n",
       "      <td>1</td>\n",
       "      <td>0</td>\n",
       "      <td>1</td>\n",
       "      <td>1</td>\n",
       "      <td>0</td>\n",
       "      <td>0</td>\n",
       "      <td>0</td>\n",
       "      <td>0</td>\n",
       "      <td>0</td>\n",
       "      <td>1</td>\n",
       "    </tr>\n",
       "    <tr>\n",
       "      <th>4</th>\n",
       "      <td>LP001008</td>\n",
       "      <td>0</td>\n",
       "      <td>1</td>\n",
       "      <td>0</td>\n",
       "      <td>6000</td>\n",
       "      <td>0.0</td>\n",
       "      <td>141</td>\n",
       "      <td>360</td>\n",
       "      <td>1</td>\n",
       "      <td>1</td>\n",
       "      <td>0</td>\n",
       "      <td>1</td>\n",
       "      <td>1</td>\n",
       "      <td>0</td>\n",
       "      <td>0</td>\n",
       "      <td>0</td>\n",
       "      <td>0</td>\n",
       "      <td>0</td>\n",
       "      <td>1</td>\n",
       "    </tr>\n",
       "    <tr>\n",
       "      <th>...</th>\n",
       "      <td>...</td>\n",
       "      <td>...</td>\n",
       "      <td>...</td>\n",
       "      <td>...</td>\n",
       "      <td>...</td>\n",
       "      <td>...</td>\n",
       "      <td>...</td>\n",
       "      <td>...</td>\n",
       "      <td>...</td>\n",
       "      <td>...</td>\n",
       "      <td>...</td>\n",
       "      <td>...</td>\n",
       "      <td>...</td>\n",
       "      <td>...</td>\n",
       "      <td>...</td>\n",
       "      <td>...</td>\n",
       "      <td>...</td>\n",
       "      <td>...</td>\n",
       "      <td>...</td>\n",
       "    </tr>\n",
       "    <tr>\n",
       "      <th>609</th>\n",
       "      <td>LP002978</td>\n",
       "      <td>0</td>\n",
       "      <td>1</td>\n",
       "      <td>0</td>\n",
       "      <td>2900</td>\n",
       "      <td>0.0</td>\n",
       "      <td>71</td>\n",
       "      <td>360</td>\n",
       "      <td>1</td>\n",
       "      <td>1</td>\n",
       "      <td>1</td>\n",
       "      <td>0</td>\n",
       "      <td>1</td>\n",
       "      <td>0</td>\n",
       "      <td>0</td>\n",
       "      <td>0</td>\n",
       "      <td>1</td>\n",
       "      <td>0</td>\n",
       "      <td>0</td>\n",
       "    </tr>\n",
       "    <tr>\n",
       "      <th>610</th>\n",
       "      <td>LP002979</td>\n",
       "      <td>1</td>\n",
       "      <td>1</td>\n",
       "      <td>0</td>\n",
       "      <td>4106</td>\n",
       "      <td>0.0</td>\n",
       "      <td>40</td>\n",
       "      <td>180</td>\n",
       "      <td>1</td>\n",
       "      <td>1</td>\n",
       "      <td>0</td>\n",
       "      <td>1</td>\n",
       "      <td>0</td>\n",
       "      <td>0</td>\n",
       "      <td>0</td>\n",
       "      <td>1</td>\n",
       "      <td>1</td>\n",
       "      <td>0</td>\n",
       "      <td>0</td>\n",
       "    </tr>\n",
       "    <tr>\n",
       "      <th>611</th>\n",
       "      <td>LP002983</td>\n",
       "      <td>1</td>\n",
       "      <td>1</td>\n",
       "      <td>0</td>\n",
       "      <td>8072</td>\n",
       "      <td>240.0</td>\n",
       "      <td>253</td>\n",
       "      <td>360</td>\n",
       "      <td>1</td>\n",
       "      <td>1</td>\n",
       "      <td>0</td>\n",
       "      <td>1</td>\n",
       "      <td>0</td>\n",
       "      <td>1</td>\n",
       "      <td>0</td>\n",
       "      <td>0</td>\n",
       "      <td>0</td>\n",
       "      <td>0</td>\n",
       "      <td>1</td>\n",
       "    </tr>\n",
       "    <tr>\n",
       "      <th>612</th>\n",
       "      <td>LP002984</td>\n",
       "      <td>1</td>\n",
       "      <td>1</td>\n",
       "      <td>0</td>\n",
       "      <td>7583</td>\n",
       "      <td>0.0</td>\n",
       "      <td>187</td>\n",
       "      <td>360</td>\n",
       "      <td>1</td>\n",
       "      <td>1</td>\n",
       "      <td>0</td>\n",
       "      <td>1</td>\n",
       "      <td>0</td>\n",
       "      <td>0</td>\n",
       "      <td>1</td>\n",
       "      <td>0</td>\n",
       "      <td>0</td>\n",
       "      <td>0</td>\n",
       "      <td>1</td>\n",
       "    </tr>\n",
       "    <tr>\n",
       "      <th>613</th>\n",
       "      <td>LP002990</td>\n",
       "      <td>0</td>\n",
       "      <td>1</td>\n",
       "      <td>1</td>\n",
       "      <td>4583</td>\n",
       "      <td>0.0</td>\n",
       "      <td>133</td>\n",
       "      <td>360</td>\n",
       "      <td>0</td>\n",
       "      <td>0</td>\n",
       "      <td>1</td>\n",
       "      <td>0</td>\n",
       "      <td>1</td>\n",
       "      <td>0</td>\n",
       "      <td>0</td>\n",
       "      <td>0</td>\n",
       "      <td>0</td>\n",
       "      <td>1</td>\n",
       "      <td>0</td>\n",
       "    </tr>\n",
       "  </tbody>\n",
       "</table>\n",
       "<p>614 rows × 19 columns</p>\n",
       "</div>"
      ],
      "text/plain": [
       "      Loan_ID  Married  Education  Self_Employed  ApplicantIncome  \\\n",
       "0    LP001002        0          1              0             5849   \n",
       "1    LP001003        1          1              0             4583   \n",
       "2    LP001005        1          1              1             3000   \n",
       "3    LP001006        1          0              0             2583   \n",
       "4    LP001008        0          1              0             6000   \n",
       "..        ...      ...        ...            ...              ...   \n",
       "609  LP002978        0          1              0             2900   \n",
       "610  LP002979        1          1              0             4106   \n",
       "611  LP002983        1          1              0             8072   \n",
       "612  LP002984        1          1              0             7583   \n",
       "613  LP002990        0          1              1             4583   \n",
       "\n",
       "     CoapplicantIncome LoanAmount Loan_Amount_Term Credit_History  \\\n",
       "0                  0.0      146.4              360              1   \n",
       "1               1508.0        128              360              1   \n",
       "2                  0.0         66              360              1   \n",
       "3               2358.0        120              360              1   \n",
       "4                  0.0        141              360              1   \n",
       "..                 ...        ...              ...            ...   \n",
       "609                0.0         71              360              1   \n",
       "610                0.0         40              180              1   \n",
       "611              240.0        253              360              1   \n",
       "612                0.0        187              360              1   \n",
       "613                0.0        133              360              0   \n",
       "\n",
       "     Loan_Status  Female  Male  0  1  2  3+  Rural  Semiurban  Urban  \n",
       "0              1       0     1  1  0  0   0      0          0      1  \n",
       "1              0       0     1  0  1  0   0      1          0      0  \n",
       "2              1       0     1  1  0  0   0      0          0      1  \n",
       "3              1       0     1  1  0  0   0      0          0      1  \n",
       "4              1       0     1  1  0  0   0      0          0      1  \n",
       "..           ...     ...   ... .. .. ..  ..    ...        ...    ...  \n",
       "609            1       1     0  1  0  0   0      1          0      0  \n",
       "610            1       0     1  0  0  0   1      1          0      0  \n",
       "611            1       0     1  0  1  0   0      0          0      1  \n",
       "612            1       0     1  0  0  1   0      0          0      1  \n",
       "613            0       1     0  1  0  0   0      0          1      0  \n",
       "\n",
       "[614 rows x 19 columns]"
      ]
     },
     "execution_count": 17,
     "metadata": {},
     "output_type": "execute_result"
    }
   ],
   "source": [
    "# Memecah data kategorikal menjadi data dummies.\n",
    "\n",
    "dff = dff.join(pd.get_dummies(dff['Gender']))\n",
    "dff = dff.join(pd.get_dummies(dff['Dependents']))\n",
    "dff = dff.join(pd.get_dummies(dff['Property_Area']))\n",
    "dff = dff.drop(columns = 'Gender')\n",
    "dff = dff.drop(columns = 'Dependents')\n",
    "dff = dff.drop(columns = 'Property_Area')\n",
    "dff"
   ]
  },
  {
   "cell_type": "code",
   "execution_count": 18,
   "metadata": {},
   "outputs": [],
   "source": [
    "# Mengubah data selain numerik atau boolean menjadi numerik\n",
    "\n",
    "dff['Married'] = dff['Married'].astype(int)\n",
    "dff['Education'] = dff['Education'].astype(int)\n",
    "dff['Self_Employed'] = dff['Self_Employed'].astype(float)\n",
    "dff['Loan_Status'] = dff['Loan_Status'].astype(int)\n",
    "dff['LoanAmount'] = dff['LoanAmount'].astype(float)\n",
    "dff['Loan_Amount_Term'] = dff['Loan_Amount_Term'].astype(int)\n",
    "dff['Credit_History'] = dff['Credit_History'].astype(int)"
   ]
  },
  {
   "cell_type": "code",
   "execution_count": 19,
   "metadata": {},
   "outputs": [
    {
     "name": "stdout",
     "output_type": "stream",
     "text": [
      "<class 'pandas.core.frame.DataFrame'>\n",
      "RangeIndex: 614 entries, 0 to 613\n",
      "Data columns (total 19 columns):\n",
      " #   Column             Non-Null Count  Dtype  \n",
      "---  ------             --------------  -----  \n",
      " 0   Loan_ID            614 non-null    object \n",
      " 1   Married            614 non-null    int32  \n",
      " 2   Education          614 non-null    int32  \n",
      " 3   Self_Employed      614 non-null    float64\n",
      " 4   ApplicantIncome    614 non-null    int64  \n",
      " 5   CoapplicantIncome  614 non-null    float64\n",
      " 6   LoanAmount         614 non-null    float64\n",
      " 7   Loan_Amount_Term   614 non-null    int32  \n",
      " 8   Credit_History     614 non-null    int32  \n",
      " 9   Loan_Status        614 non-null    int32  \n",
      " 10  Female             614 non-null    uint8  \n",
      " 11  Male               614 non-null    uint8  \n",
      " 12  0                  614 non-null    uint8  \n",
      " 13  1                  614 non-null    uint8  \n",
      " 14  2                  614 non-null    uint8  \n",
      " 15  3+                 614 non-null    uint8  \n",
      " 16  Rural              614 non-null    uint8  \n",
      " 17  Semiurban          614 non-null    uint8  \n",
      " 18  Urban              614 non-null    uint8  \n",
      "dtypes: float64(3), int32(5), int64(1), object(1), uint8(9)\n",
      "memory usage: 41.5+ KB\n"
     ]
    }
   ],
   "source": [
    "# Mengecek kesesuaian tipe data \n",
    "\n",
    "dff.info()"
   ]
  },
  {
   "cell_type": "markdown",
   "metadata": {},
   "source": [
    "## Pemisahan data training dan testing\n",
    "\n",
    "Pada tahap ini, dilakukan pemisahan data training dan data testing untuk nantinya dipakai melatih model.\n",
    "Digunakan data training sebesar 70%."
   ]
  },
  {
   "cell_type": "code",
   "execution_count": 20,
   "metadata": {},
   "outputs": [],
   "source": [
    "fitur = [\"Married\", \"Education\", \"Self_Employed\", \"ApplicantIncome\", \"CoapplicantIncome\", \"LoanAmount\", \"Loan_Amount_Term\", \"Credit_History\", \"Female\", \"Male\", \"0\",\"1\",\"2\",\"3+\",\"Rural\",\"Semiurban\",\"Urban\"]\n",
    "\n",
    "x = dff[fitur]\n",
    "y = dff[\"Loan_Status\"]"
   ]
  },
  {
   "cell_type": "code",
   "execution_count": 21,
   "metadata": {},
   "outputs": [],
   "source": [
    "x_train, x_test, y_train, y_test = train_test_split(x, y, train_size=0.7, shuffle=True, random_state=42)"
   ]
  },
  {
   "cell_type": "markdown",
   "metadata": {},
   "source": [
    "## Pembangunan Model Prediksi\n",
    "\n",
    "Pada tahap ini, dilakukan pembangunan model prediksi naivebayes."
   ]
  },
  {
   "cell_type": "code",
   "execution_count": 22,
   "metadata": {},
   "outputs": [],
   "source": [
    "naivebayes = GaussianNB()\n",
    "kfold = model_selection.KFold()\n",
    "scoring = ['accuracy', 'f1']"
   ]
  },
  {
   "cell_type": "markdown",
   "metadata": {},
   "source": [
    "## Pelatihan Model Prediksi\n",
    "\n",
    "Pada tahap ini, dilakukan pelatihan model prediksi naivebayes yang telah dibuat dengan menggunakan data training yang telah dipecah sebelumnya."
   ]
  },
  {
   "cell_type": "code",
   "execution_count": 23,
   "metadata": {},
   "outputs": [
    {
     "data": {
      "text/plain": [
       "GaussianNB()"
      ]
     },
     "execution_count": 23,
     "metadata": {},
     "output_type": "execute_result"
    }
   ],
   "source": [
    "naivebayes.fit(x_train, y_train) #melakukan pelatihan data training"
   ]
  },
  {
   "cell_type": "markdown",
   "metadata": {},
   "source": [
    "## Evaluasi Kinerja Model\n",
    "\n",
    "Pada tahap ini, dilakukan evaluasi kinerja model menggunakan scoring accuracy dan juga f1 score. Data yang dites sebanyak lima kali sesuai KFold."
   ]
  },
  {
   "cell_type": "code",
   "execution_count": 24,
   "metadata": {},
   "outputs": [
    {
     "name": "stdout",
     "output_type": "stream",
     "text": [
      "[0.78861789 0.7398374  0.78861789 0.82113821 0.79508197]\n",
      "0.7866586698653871\n"
     ]
    }
   ],
   "source": [
    "print(cross_val_score(naivebayes, x, y, cv=kfold, scoring=\"accuracy\"))\n",
    "print(cross_val_score(naivebayes, x, y, cv=kfold, scoring=\"accuracy\").mean())"
   ]
  },
  {
   "cell_type": "code",
   "execution_count": 25,
   "metadata": {},
   "outputs": [
    {
     "name": "stdout",
     "output_type": "stream",
     "text": [
      "[0.85869565 0.82795699 0.86458333 0.87912088 0.8603352 ]\n",
      "0.8581384098812327\n"
     ]
    }
   ],
   "source": [
    "print(cross_val_score(naivebayes, x, y, cv=kfold, scoring=\"f1\"))\n",
    "print(cross_val_score(naivebayes, x, y, cv=kfold, scoring=\"f1\").mean())"
   ]
  },
  {
   "cell_type": "code",
   "execution_count": 26,
   "metadata": {},
   "outputs": [
    {
     "name": "stdout",
     "output_type": "stream",
     "text": [
      "              precision    recall  f1-score   support\n",
      "\n",
      "           0       0.86      0.46      0.60        65\n",
      "           1       0.77      0.96      0.85       120\n",
      "\n",
      "    accuracy                           0.78       185\n",
      "   macro avg       0.81      0.71      0.73       185\n",
      "weighted avg       0.80      0.78      0.76       185\n",
      "\n"
     ]
    }
   ],
   "source": [
    "# Dilakukan pengecekan confusion matrix untuk mengetahui nilai-nilai evaluasi model, seperti precision, recall, f1-score.\n",
    "\n",
    "score_test = naivebayes.score(x_test, y_test)\n",
    "predict = naivebayes.predict(x_test)\n",
    "print(classification_report(y_test, predict))"
   ]
  },
  {
   "cell_type": "code",
   "execution_count": 27,
   "metadata": {},
   "outputs": [
    {
     "name": "stdout",
     "output_type": "stream",
     "text": [
      "Accuracy Naive Bayes with train size 0.90 : 75.806%\n",
      "Accuracy Naive Bayes with train size 0.80 : 78.049%\n",
      "Accuracy Naive Bayes with train size 0.60 : 79.675%\n",
      "Accuracy Naive Bayes with train size 0.65 : 79.535%\n",
      "Accuracy Naive Bayes with train size 0.67 : 79.512%\n"
     ]
    }
   ],
   "source": [
    "#Dilakukan pengecekan akurasi data untuk mengetahui akurasi paling tinggi.\n",
    "\n",
    "train_size = [0.9, 0.8, 0.6, 0.65, 2/3]\n",
    "for t in train_size :\n",
    "    naivebayes = GaussianNB()\n",
    "    x_train, x_test, y_train, y_test = train_test_split(x, y, train_size=t, random_state=42)\n",
    "    naivebayes.fit(x_train, y_train)\n",
    "    score = naivebayes.score(x_test, y_test)\n",
    "    print(\"Accuracy Naive Bayes with train size %.2f : %.3f%%\" % (t, score*100))"
   ]
  },
  {
   "cell_type": "markdown",
   "metadata": {},
   "source": [
    "## Kesimpulan"
   ]
  },
  {
   "cell_type": "markdown",
   "metadata": {},
   "source": [
    "Dapat disimpulkan, model naive bayes dapat bekerja dengan baik dalam memprediksi loan status, dengan menggunakan data independen sesuai fitur yang telah dituliskan di atas. Hal ini dapat dilihat dari proses yang dilakukan menggunakan data training sebanyak 0.70 dan didapatkan nilai evaluasi rata-rata accuracy sebesar 0.7866586698653871 dan f1-score sebesar 0.8581384098812327. Dari proses yang sudah dilakukan, dapat disimpulkan kembali bahwa akurasi naive bayes tertinggi, sebesar 79.675% dapat didapatkan dengan menggunakan data training sebesar 60% atau 0.60.\n"
   ]
  }
 ],
 "metadata": {
  "kernelspec": {
   "display_name": "Python 3",
   "language": "python",
   "name": "python3"
  },
  "language_info": {
   "codemirror_mode": {
    "name": "ipython",
    "version": 3
   },
   "file_extension": ".py",
   "mimetype": "text/x-python",
   "name": "python",
   "nbconvert_exporter": "python",
   "pygments_lexer": "ipython3",
   "version": "3.9.0"
  }
 },
 "nbformat": 4,
 "nbformat_minor": 4
}
